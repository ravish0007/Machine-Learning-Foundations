{
 "cells": [
  {
   "cell_type": "code",
   "execution_count": 1,
   "metadata": {},
   "outputs": [],
   "source": [
    "import numpy as np\n",
    "import pandas as pd\n",
    "import matplotlib.pyplot as plt"
   ]
  },
  {
   "cell_type": "code",
   "execution_count": 4,
   "metadata": {},
   "outputs": [],
   "source": [
    "from sklearn.model_selection import train_test_split"
   ]
  },
  {
   "cell_type": "code",
   "execution_count": 5,
   "metadata": {},
   "outputs": [],
   "source": [
    "%matplotlib inline"
   ]
  },
  {
   "cell_type": "code",
   "execution_count": 85,
   "metadata": {},
   "outputs": [],
   "source": [
    "input_data=np.array([[0,0,0],\n",
    "            [0,1,0],\n",
    "            [0,0,1],\n",
    "            [1,0,0],\n",
    "            [1,0,1],\n",
    "            [1,1,1]])"
   ]
  },
  {
   "cell_type": "code",
   "execution_count": 86,
   "metadata": {},
   "outputs": [],
   "source": [
    "output_data=np.array([[0],[1],[1],[1],[0],[1]])"
   ]
  },
  {
   "cell_type": "code",
   "execution_count": 87,
   "metadata": {},
   "outputs": [],
   "source": [
    "def sigmoid(x):\n",
    "    return (1)/(1+np.exp(-x))"
   ]
  },
  {
   "cell_type": "code",
   "execution_count": 88,
   "metadata": {},
   "outputs": [],
   "source": [
    "def dsigmoid(x):\n",
    "    return x*(1-x)"
   ]
  },
  {
   "cell_type": "code",
   "execution_count": 105,
   "metadata": {},
   "outputs": [],
   "source": [
    "np.random.seed(3)\n",
    "w0=np.random.random((3,4))-1"
   ]
  },
  {
   "cell_type": "code",
   "execution_count": 106,
   "metadata": {},
   "outputs": [
    {
     "data": {
      "text/plain": [
       "array([[-0.4492021 , -0.29185218, -0.70909526, -0.48917239],\n",
       "       [-0.10705305, -0.10370691, -0.87441469, -0.79275712],\n",
       "       [-0.9485328 , -0.55919016, -0.97012379, -0.54316678]])"
      ]
     },
     "execution_count": 106,
     "metadata": {},
     "output_type": "execute_result"
    }
   ],
   "source": [
    "w0"
   ]
  },
  {
   "cell_type": "code",
   "execution_count": 109,
   "metadata": {},
   "outputs": [],
   "source": [
    "w1=np.random.random((4,2))-1"
   ]
  },
  {
   "cell_type": "code",
   "execution_count": 110,
   "metadata": {},
   "outputs": [
    {
     "data": {
      "text/plain": [
       "array([[-0.71647492, -0.30686208],\n",
       "       [-0.55954628, -0.84313226],\n",
       "       [-0.45535098, -0.21968524],\n",
       "       [-0.69363647, -0.77804212]])"
      ]
     },
     "execution_count": 110,
     "metadata": {},
     "output_type": "execute_result"
    }
   ],
   "source": [
    "w1"
   ]
  },
  {
   "cell_type": "code",
   "execution_count": 111,
   "metadata": {},
   "outputs": [],
   "source": [
    "w2=np.random.random((2,1))-1"
   ]
  },
  {
   "cell_type": "code",
   "execution_count": 112,
   "metadata": {},
   "outputs": [
    {
     "data": {
      "text/plain": [
       "array([[-0.61202874],\n",
       "       [-0.06361635]])"
      ]
     },
     "execution_count": 112,
     "metadata": {},
     "output_type": "execute_result"
    }
   ],
   "source": [
    "w2"
   ]
  },
  {
   "cell_type": "code",
   "execution_count": 113,
   "metadata": {},
   "outputs": [],
   "source": [
    "b0=np.random.random((1,1))-1\n",
    "b1=np.random.random((1,1))-1\n",
    "b2=np.random.random((1,1))-1"
   ]
  },
  {
   "cell_type": "code",
   "execution_count": 115,
   "metadata": {},
   "outputs": [],
   "source": [
    "def feed_forward(data_in,w0,w1,w2,b0,b1,b2):\n",
    "    layer0=data_in\n",
    "    layer1=sigmoid(np.dot(layer0,w0)+b0)\n",
    "    layer2=sigmoid(np.dot(layer1,w1)+b1)\n",
    "    layer3=sigmoid(np.dot(layer2,w2)+b2)\n",
    "    \n",
    "    return layer0,layer1,layer2,layer3\n"
   ]
  },
  {
   "cell_type": "code",
   "execution_count": 120,
   "metadata": {},
   "outputs": [],
   "source": [
    "def back_propogation(layer0,layer1,layer2,layer3,actual_y,w0,w1,w2,b0,b1,b2,learning_rate,i):\n",
    "    l3_error=layer3-actual_y\n",
    "    l3_delta=l3_error*dsigmoid(layer3)\n",
    "    dh3=np.dot(layer2.T,l3_delta)#delta w3 \n",
    "    \n",
    "    \n",
    "    l2_error=np.dot(l3_delta,w2.T)\n",
    "    l2_delta=l2_error *dsigmoid(layer2)\n",
    "    dh2=np.dot(layer1.T,l2_delta)\n",
    "    \n",
    "    l1_error=np.dot(l2_delta,w1.T)\n",
    "    l1_delta=l1_error* dsigmoid(layer1)#weights\n",
    "    dh1=np.dot(layer0.T,l1_delta)\n",
    "    \n",
    "    \n",
    "    w2=w2-(learning_rate*dh3)\n",
    "    w1=w1-(learning_rate * dh2)\n",
    "    w0=w0-(learning_rate* dh1)\n",
    "    \n",
    "    b2=b2-(learning_rate*np.mean(l3_delta))\n",
    "    b1=b1-(learning_rate*np.mean(l2_delta))\n",
    "    b0=b0-(learning_rate*np.mean(l1_delta))\n",
    "    \n",
    "    if i%1==0:\n",
    "        loss=np.mean(np.power(layer3-actual_y,2))\n",
    "        loss_curve.append(loss)\n",
    "        iters.append(int(i))\n",
    "        \n",
    "        if i%1==0:\n",
    "            print('\\n',int(i),loss)\n",
    "            \n",
    "    return w0,w1,w2,b0,b1,b2       "
   ]
  },
  {
   "cell_type": "code",
   "execution_count": 130,
   "metadata": {},
   "outputs": [],
   "source": [
    "def accuracy(testx,testy):\n",
    "    correct=0\n",
    "    layer0,layer1,layer2,layer3=feed_forward(testx,w0,w1,w2,b0,b1,b2)\n",
    "    \n",
    "    for i in range(len(testx)):\n",
    "        if np.argmax(layer3[i])==np.argmax(testy[i]):\n",
    "            correct+=1\n",
    "            \n",
    "    return f\"Accuracy : {correct*100/len(testy)}\"        \n",
    "        "
   ]
  },
  {
   "cell_type": "code",
   "execution_count": 135,
   "metadata": {},
   "outputs": [],
   "source": [
    "epochs =10\n",
    "loss_curve=[]\n",
    "iters=[]"
   ]
  },
  {
   "cell_type": "code",
   "execution_count": 136,
   "metadata": {},
   "outputs": [
    {
     "name": "stdout",
     "output_type": "stream",
     "text": [
      "\n",
      " 0 0.21484542980943258\n",
      "\n",
      " 1 0.21483942298904937\n",
      "\n",
      " 2 0.21483341088978639\n",
      "\n",
      " 3 0.2148273935064975\n",
      "\n",
      " 4 0.21482137083403263\n",
      "\n",
      " 5 0.2148153428672375\n",
      "\n",
      " 6 0.21480930960095404\n",
      "\n",
      " 7 0.21480327103001995\n",
      "\n",
      " 8 0.21479722714926908\n",
      "\n",
      " 9 0.21479117795353111\n"
     ]
    }
   ],
   "source": [
    "for i in range(epochs):\n",
    "    layer0,layer1,layer2,layer3=feed_forward(input_data,w0,w1,w2,b0,b1,b2)\n",
    "    w0,w1,w2,b0,b1,b2=back_propogation(layer0,layer1,layer2,layer3,output_data,w0,w1,w2,b0,b1,b2,0.05,i)"
   ]
  },
  {
   "cell_type": "code",
   "execution_count": 137,
   "metadata": {},
   "outputs": [
    {
     "data": {
      "text/plain": [
       "[<matplotlib.lines.Line2D at 0x1e90482bba8>]"
      ]
     },
     "execution_count": 137,
     "metadata": {},
     "output_type": "execute_result"
    },
    {
     "data": {
      "image/png": "[encoded data removed]",
      "text/plain": [
       "<Figure size 432x288 with 1 Axes>"
      ]
     },
     "metadata": {
      "needs_background": "light"
     },
     "output_type": "display_data"
    }
   ],
   "source": [
    "plt.plot(iters,loss_curve)"
   ]
  },
  {
   "cell_type": "code",
   "execution_count": 138,
   "metadata": {},
   "outputs": [
    {
     "data": {
      "text/plain": [
       "([1, 1, 0],\n",
       " array([[0.30344906, 0.28189064, 0.14566736, 0.16483031]]),\n",
       " array([[0.28480366, 0.29894731]]),\n",
       " array([[0.69469908]]))"
      ]
     },
     "execution_count": 138,
     "metadata": {},
     "output_type": "execute_result"
    }
   ],
   "source": [
    "feed_forward([1,1,0],w0,w1,w2,b0,b1,b2)"
   ]
  },
  {
   "cell_type": "code",
   "execution_count": null,
   "metadata": {},
   "outputs": [],
   "source": []
  }
 ],
 "metadata": {
  "kernelspec": {
   "display_name": "Python 3",
   "language": "python",
   "name": "python3"
  },
  "language_info": {
   "codemirror_mode": {
    "name": "ipython",
    "version": 3
   },
   "file_extension": ".py",
   "mimetype": "text/x-python",
   "name": "python",
   "nbconvert_exporter": "python",
   "pygments_lexer": "ipython3",
   "version": "3.6.8"
  }
 },
 "nbformat": 4,
 "nbformat_minor": 2
}
